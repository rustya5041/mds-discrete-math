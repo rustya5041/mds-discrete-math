{
 "cells": [
  {
   "cell_type": "code",
   "execution_count": 17,
   "metadata": {},
   "outputs": [
    {
     "name": "stdout",
     "output_type": "stream",
     "text": [
      "edges = 88234\n",
      "nodes = 4039\n",
      "G_fb ACC = 0.6055467186200876\n",
      "G_rand ACC = 0.01081923201926451\n"
     ]
    }
   ],
   "source": [
    "import networkx as nx;\n",
    "from random import random;\n",
    "\n",
    "# Read data from the dataset, and create graph G_fb\n",
    "G_fb = nx.read_edgelist(\"facebook_combined.txt\", create_using = nx.Graph(), nodetype=int)\n",
    "\n",
    "# Show the number of edges in G_fb\n",
    "print(\"edges = \" + str(G_fb.number_of_edges()))\n",
    "\n",
    "# Show number of nodes in G_fb\n",
    "print(\"nodes = \" + str(G_fb.number_of_nodes()))\n",
    "\n",
    "# TASK1. Now your task is to compute the probability whether there is an edge between two vertices.\n",
    "n_edges = G_fb.number_of_edges()\n",
    "n_nodes = G_fb.number_of_nodes()\n",
    "\n",
    "max_edges = n_nodes * (n_nodes-1)/2\n",
    "\n",
    "edge_probab = n_edges / max_edges\n",
    "\n",
    "# TASK2. Compute the ACC (average clustering coefficient) of G_fb\n",
    "av_clust_coeff = nx.average_clustering(G_fb)\n",
    "\n",
    "# Now we have to generate a random graph. First we initialize it\n",
    "G_rand = nx.Graph()\n",
    "\n",
    "# # TASK3. generate edges in G_rand at random:\n",
    "k = n_nodes - 1\n",
    "\n",
    "for i in range(0,k) :\n",
    "    for j in range(0,i) : \n",
    "        # Add an edge between vertices i and j, with probability edge_probab (as in G_fb)\n",
    "        if (random() <= edge_probab) :\n",
    "            G_rand.add_edge(i,j)\n",
    "\n",
    "        \n",
    "# # Now we print out the number of edges and the ACC of the new graph\n",
    "#print(\"rgraph_edges = \" + str(G_rand.number_of_edges()))\n",
    "\n",
    "av_clust_coeff_rand = nx.average_clustering(G_rand)\n",
    "\n",
    "#print(\"rgraph_acc = \" + str(av_clust_coeff_rand))\n",
    "\n",
    "# The results which should be submitted to the grader include the ACC of G_fb and of G_rand. Good luck!\n",
    "\n",
    "print(\"G_fb ACC = \" + str(av_clust_coeff), \"G_rand ACC = \" + str(av_clust_coeff_rand), sep = '\\n')"
   ]
  }
 ],
 "metadata": {
  "kernelspec": {
   "display_name": "Python 3.8.8 64-bit ('anaconda3')",
   "language": "python",
   "name": "python3"
  },
  "language_info": {
   "codemirror_mode": {
    "name": "ipython",
    "version": 3
   },
   "file_extension": ".py",
   "mimetype": "text/x-python",
   "name": "python",
   "nbconvert_exporter": "python",
   "pygments_lexer": "ipython3",
   "version": "3.8.8"
  },
  "vscode": {
   "interpreter": {
    "hash": "e051da4a5763bfc9ce1c5f3e0a03ca70a7985308c66ef8f16fedb51a44687023"
   }
  }
 },
 "nbformat": 4,
 "nbformat_minor": 2
}
