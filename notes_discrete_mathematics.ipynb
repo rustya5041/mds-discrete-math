{
 "cells": [
  {
   "cell_type": "markdown",
   "metadata": {},
   "source": [
    "# Discrete Mathematics"
   ]
  },
  {
   "cell_type": "markdown",
   "metadata": {},
   "source": [
    "`Formula`\n",
    "\n",
    "0.76 * quizzes +  \n",
    "0.04 * Clustering +  \n",
    "0.08 * Midterm Quiz +  \n",
    "0.08 * Graphs +  \n",
    "0.04 * Ego Network Centers  "
   ]
  },
  {
   "cell_type": "markdown",
   "metadata": {},
   "source": [
    "## `Week 1 - Combinatorics`"
   ]
  },
  {
   "cell_type": "markdown",
   "metadata": {},
   "source": [
    "**_`Rule of sum`_**\n",
    "- **If there are 𝑘 objects of the first type and there are 𝑛 objects of the second type, then there are $n + k$ objects of one of two types**\n",
    "\n",
    "NOTE: for the rule of sum to work, no object should belong to both classes!"
   ]
  },
  {
   "cell_type": "code",
   "execution_count": 1,
   "metadata": {},
   "outputs": [
    {
     "name": "stdout",
     "output_type": "stream",
     "text": [
      "['Alice', 'Bob', 'Charlie', 0, 1, 2, 3, 4]\n"
     ]
    }
   ],
   "source": [
    "print(['Alice', 'Bob', 'Charlie']  + [0, 1, 2, 3, 4])"
   ]
  },
  {
   "cell_type": "markdown",
   "metadata": {},
   "source": [
    "**_`Set`_**\n",
    "- **Set is an arbitrary group of arbitrary objects**\n",
    "\n",
    "_NOTE: the order of elements is not important, repetitions are not important_ "
   ]
  },
  {
   "cell_type": "code",
   "execution_count": 2,
   "metadata": {},
   "outputs": [
    {
     "name": "stdout",
     "output_type": "stream",
     "text": [
      "{0, 1, 2, 3}\n"
     ]
    }
   ],
   "source": [
    "S = {0, 1, 2, 3}\n",
    "print(S)"
   ]
  },
  {
   "cell_type": "markdown",
   "metadata": {},
   "source": [
    "**_`Rule of product`_**\n",
    "\n",
    "- **If there are 𝑘 object of the first type and there are 𝑛 object of the second type, then there are $k\\times n$ pairs of objects, the first of the first type and the second of the second type**"
   ]
  },
  {
   "cell_type": "code",
   "execution_count": 3,
   "metadata": {},
   "outputs": [
    {
     "name": "stdout",
     "output_type": "stream",
     "text": [
      "14 15 24 25 34 35 "
     ]
    }
   ],
   "source": [
    "from itertools import product\n",
    "for p in product(['1', '2', '3'], ['4', '5']):\n",
    "    print(\"\".join(p), end =' ')"
   ]
  },
  {
   "cell_type": "markdown",
   "metadata": {},
   "source": [
    "**_`Cartesian product`_**\n",
    "\n",
    "$𝐴\\times 𝐵  = |A|\\times |B|$ and is called Cartesian product of sets $𝐴$ and $𝐵$"
   ]
  },
  {
   "cell_type": "markdown",
   "metadata": {},
   "source": [
    "**_`Generalized rule of sum & rule of product for sets`_**\n",
    "\n",
    "- **If there are finite sets 𝐴 and 𝐵, then |𝐴∪𝐵| = |𝐴| + |𝐵| − |𝐴∩𝐵|**\n",
    "\n",
    "- **If there is a finite set 𝐴 and a finite set 𝐵, then there are |𝐴| × |𝐵| pairs of objects, the first from 𝐴 and the second from 𝐵**"
   ]
  },
  {
   "cell_type": "markdown",
   "metadata": {},
   "source": [
    "**_`Tuples`_**\n",
    "\n",
    "- **The number of sequences of length $𝑘$ composed out of $n$ symbols is $n\\times k$**\n",
    "\n",
    "General problem: Suppose we have a set of 𝑛 symbols. How many different sequences of length 𝑘 we can form out of these symbols?\n"
   ]
  },
  {
   "cell_type": "code",
   "execution_count": 4,
   "metadata": {},
   "outputs": [
    {
     "name": "stdout",
     "output_type": "stream",
     "text": [
      "111 112 121 122 211 212 221 222 "
     ]
    }
   ],
   "source": [
    "from itertools import product\n",
    "for p in product(\"12\", repeat=3): # 2**3=8\n",
    "    print(\"\".join(p), end=' ')"
   ]
  },
  {
   "cell_type": "markdown",
   "metadata": {},
   "source": [
    "**_`k-Permutations`_**\n",
    "\n",
    "- **Tuples of length $k$ without repetitions are called $k$-permutations**  \n",
    "\n",
    "- **$k$-permutations = $n!\\over (n-k)!$**\n",
    "\n",
    "Note: observe that if $n < k$, then there are no $k$-permutations: there are simply not enough different letters\n",
    "\n",
    "General problem: suppose we have a set of $n$ symbols. How many different sequences of length $k$ we can form out of these symbols if we are not allowed to use the same symbol twice?"
   ]
  },
  {
   "cell_type": "code",
   "execution_count": 5,
   "metadata": {},
   "outputs": [
    {
     "name": "stdout",
     "output_type": "stream",
     "text": [
      "12 13 14 21 23 24 31 32 34 41 42 43 "
     ]
    }
   ],
   "source": [
    "from itertools import permutations\n",
    "for p in permutations(\"1234\", 2):\n",
    "    print(\"\".join(p), end=' ')"
   ]
  },
  {
   "cell_type": "markdown",
   "metadata": {},
   "source": [
    "**_`Combinations`_**\n",
    "\n",
    "- **$k$-combinations is a subset of set $S$ with size $k$**\n",
    "\n",
    "- **$k$-combinations = $\\binom {n}{k}$ = $n! \\over k!(n-k)!$**"
   ]
  },
  {
   "cell_type": "markdown",
   "metadata": {},
   "source": [
    "**_`Combinations with repetitions`_**\n",
    "\n",
    "- Combinations with repetitions is the number of combinations of size $k$ of $n$ objects with repetitions\n",
    "    \n",
    "- General formula: $k + n - 1 \\choose n - 1$"
   ]
  },
  {
   "cell_type": "markdown",
   "metadata": {},
   "source": [
    "**_`Standard settings matrix`_**\n",
    "\n",
    "|           | With repetitions                                         | Without repetitions               |\n",
    "|-----------|----------------------------------------------------------|-----------------------------------|\n",
    "| **Ordered**   | Tuples  $n^k$                                            | k-permutations  $n! \\over (n-k)!$ |\n",
    "| **Unordered** | Combinations with repetitions  $k + n - 1 \\choose n - 1$ | Combinations  $n \\choose k$       |"
   ]
  },
  {
   "cell_type": "markdown",
   "metadata": {},
   "source": [
    "_**`Sets & identities on sets`**_\n",
    "\n",
    "$ A \\cup B = $ {$x \\mid x \\in A$ or $x \\in B$}  - union  \n",
    "$ A \\cap B = $ {$x \\mid x \\in A$ and $x \\in B$} - intersetion  \n",
    "$ A \\setminus B = $ {$x \\mid x \\in A$, but $ x \\notin B$} - difference  \n",
    "$ A \\bigtriangleup B = $ {$ x \\mid x \\in A$ or $x \\in B$, but not both} - symmetric difference\n",
    "\n",
    "The set $A$ is a subset of the set $B$ ($A \\subseteq B$) if for any $x \\in A$ we have $x \\in B$ \n",
    "\n",
    "$A = B \\iff A \\subseteq B$ and $B \\subseteq A$\n",
    "\n",
    "Set equivalence can be checked in two ways:\n",
    "1. Decomposing left and right sides of equivalence to basic properties and checking whether they state the same  \n",
    "\n",
    "2. Checking if all elements belonging to right side also belong to the left: | Suppose $x \\in A \\bigtriangleup B$. This means that exactly one of the following is true: $x \\in A$, $x \\in B$. Clearly,such an $x$ is in $A \\cup B$. Clearly,such an $x$ is not in $A \\cap B$. Thus, $x$ is in the difference of these two sets, that is, $x$ is in the righthand side.\n",
    "In the other direction, suppose $x \\in (A \\cup B) \\setminus (A \\cap B)$. Then, $x \\in  A \\cup B$ and $x \\notin A \\cap B$. This means that $x$ is in at least one of the sets $A$ and $B$, and $x$ is not in both sets $A$ and $B$. Thus $x$ is in exactly one of the sets $A$ and $B$. That is, $x \\in A \\bigtriangleup B$.\n"
   ]
  },
  {
   "cell_type": "markdown",
   "metadata": {},
   "source": [
    "## `Week 2 - Advanced Combinatorics`"
   ]
  },
  {
   "cell_type": "markdown",
   "metadata": {},
   "source": [
    "**_`Pascal's theorem`_**\n",
    "\n",
    "$n \\choose k$ $=$ $n - 1 \\choose k-1$ $+$ $n - 1 \\choose k$\n",
    "\n",
    "Symmetry:\n",
    "\n",
    "$n \\choose k$ $=$ $n \\choose n - k$"
   ]
  },
  {
   "cell_type": "markdown",
   "metadata": {},
   "source": [
    "**_`Comapring binomials`_**\n",
    "\n",
    "If $k \\leq n \\over 2$ $\\implies$ $n \\choose k-1$ $<$ $n \\choose k$\n",
    "\n",
    "If $k \\geq n \\over 2$ $\\implies$ $n \\choose k$ $>$ $n \\choose k + 1$\n"
   ]
  },
  {
   "cell_type": "markdown",
   "metadata": {},
   "source": [
    "## `Week 3 - Discrete probability`"
   ]
  },
  {
   "cell_type": "markdown",
   "metadata": {},
   "source": [
    "Дурак не законспектил теорвер, но там вроде изи, не стоит усилий"
   ]
  },
  {
   "cell_type": "markdown",
   "metadata": {},
   "source": [
    "## `Week 4 - Graphs`"
   ]
  },
  {
   "cell_type": "markdown",
   "metadata": {},
   "source": [
    "**_`Graph`_**\n",
    "\n",
    "- A **graph** is a set of vertices, some of which are connected by edges.\n",
    "- **Directed graph** means that each edge has its direction from one vertex to another"
   ]
  },
  {
   "cell_type": "markdown",
   "metadata": {},
   "source": [
    "_**`Loops & parallel edges`**_\n",
    "\n",
    "- **Loop**: a vertex connected to itself = _pseudograph_\n",
    "- **Parallel edges**: two vertices connected by more than one edge = _multigraph_\n",
    "\n",
    "Note that in a directed graph edges connecting two vertices in different directions _are not considered parallel_.\n"
   ]
  },
  {
   "cell_type": "markdown",
   "metadata": {},
   "source": [
    "_**`Paths & Cycles`**_\n",
    "\n",
    "A **path** in a graph is a sequence of vertices $\\upsilon _{0}, \\upsilon _{1}, ... , \\upsilon _{𝑛}$, such that $\\upsilon _{𝑖}$ is connected to $\\upsilon _{𝑖+1}$\n",
    "\n",
    "If $\\upsilon _{𝑛} =\\upsilon _{0}$, then this path is a **cycle**\n",
    "\n",
    "If $\\upsilon _{1}$, ... , $\\upsilon _{n}$ are different vertices and $n ≥ 3$, $ \\implies $ a cycle is **simple**"
   ]
  },
  {
   "cell_type": "markdown",
   "metadata": {},
   "source": [
    "_**`Trees`**_\n",
    "\n",
    "- **Tree** is a graph without simple cycles "
   ]
  },
  {
   "cell_type": "markdown",
   "metadata": {},
   "source": [
    "_**`Rooted trees`**_\n",
    "\n",
    "- One can pick an _arbitrary_ vertex of a tree declare it as the **root**\n",
    "- For any vertex (except the root) there is a unique path from the root to this vertex. Otherwise, it would be a cycle."
   ]
  },
  {
   "cell_type": "markdown",
   "metadata": {},
   "source": [
    "_**`Parents & Children`**_\n",
    "\n",
    "- For any vertex (except the root), there is **exactly one** vertex, which is next to it on the path towards the root. This is the **parent** of the given vertex.\n",
    "- Other vertices are **children**\n",
    "- Vertices without children are called **leaves**"
   ]
  },
  {
   "cell_type": "markdown",
   "metadata": {},
   "source": [
    "_**`Number of edges in a tree`**_\n",
    "\n",
    "- If a tree has $n$ vertices and $m$ edges, then $m = n − 1$\n",
    "\n",
    ">Proof:  \n",
    ">- For any vertex (except the root)there is a unique path from the root to this vertex.  \n",
    ">- The non-root vertices are in one-to-one correspondence with edges (each vertex corresponds to the last edge of such path)  \n",
    ">- Thus, $m = n-1$"
   ]
  },
  {
   "cell_type": "markdown",
   "metadata": {},
   "source": [
    "_**`Colorings. Bipartite Graphs`**_\n",
    "\n",
    "- We consider only vertex colorings.\n",
    "- In a coloring,each vertex is marked by a color taken from a finite set of possible colors (for example, _{red, green, blue}_)\n",
    "- A coloring is **proper**, if endpoints of _any_ edge have different colors."
   ]
  },
  {
   "cell_type": "markdown",
   "metadata": {},
   "source": [
    "_**`Four Color Theorem`**_\n",
    "\n",
    "1. Any map can be coloured in 4 different colors, such that adjacent areas are different colors.\n",
    "2. If a graph can be drawn on a plane without intersections, then it is 4-colorable."
   ]
  },
  {
   "cell_type": "markdown",
   "metadata": {},
   "source": [
    "_**`Bipartite graphs (2-coloring)`**_\n",
    "\n",
    "- 2-coloring can be applied using the _greedy algorithm_, when you start with some arbitrary vertex and color all vertices connected to it by different color  \n",
    "- Bipartite graphs can express _correspondences_ between objects of different kind\n",
    "\n",
    "Note: greedy algorithm _may_ fail if the number of edges is odd, as it requires color switching."
   ]
  },
  {
   "cell_type": "markdown",
   "metadata": {},
   "source": [
    "_**`Odd & Even vertices`**_\n",
    "\n",
    "- An odd vertex is a vertex which has an odd number of edges adjacent to it\n",
    "- An evne vertex is a vertex which has an even number of edges adjacent to it"
   ]
  },
  {
   "cell_type": "markdown",
   "metadata": {},
   "source": [
    "_**`Eulers Path & Eulers Cycle`**_\n",
    "\n",
    "- A Euler path is a path in the graph which visits each edge exactly **once**.\n",
    "- A Euler Cycle is a path which starts and  ends at the same vertex\n",
    "\n",
    "\n",
    ">NOTE:  \n",
    "if there exists a Euler path, then the graph has at most **two odd vertices**  \n",
    "if there exists a Euler cycle, then the graph has **no odd vertices**  "
   ]
  },
  {
   "cell_type": "markdown",
   "metadata": {},
   "source": [
    "_**`Hamiltonian Paths & Cycles`**_\n",
    "\n",
    "- A Hamiltonian path is a path in the graph which visits each vertex exactly **once**.\n",
    "- A Hamiltonian cycle is a path which starts and ends at the same vertex"
   ]
  },
  {
   "cell_type": "markdown",
   "metadata": {},
   "source": [
    "_**`Cycles in Directed Graphs`**_\n",
    "\n",
    "- In directed graphs, cycles must also be directed!\n",
    "- A directed graph without directed cyclesis called _acyclic_. Directed acyclic graphs are called **DAGs**.\n",
    "\n",
    "Topological sorting of DAGs can be done by applying the _depth first_ algorithm."
   ]
  },
  {
   "cell_type": "markdown",
   "metadata": {},
   "source": [
    "_**`Traversing graphs`**_\n",
    "\n",
    "_Traversing a graph means visiting its vertices a specific order._\n",
    "\n",
    "- In the **pre-order traversing**, we visit the root before traversing the sub-trees.\n",
    "- In the **post-order**, we visit the root after traversing the sub-trees.\n",
    "- For binary trees, the third traversing order is available. In the in-order, we first traverse the left sub-tree, then visit the root, and then traverse the right sub-tree."
   ]
  },
  {
   "cell_type": "markdown",
   "metadata": {},
   "source": [
    "_**`Depth-first search vs breadth-first search (DFS vs BFS)`**_\n",
    "\n",
    "- DFS does not always find the shortest way to a vertex  \n",
    "- In BFS, vertices are enumerated in a uniform manner  \n",
    "- At each step, the BFS algorithm visits all new vertices which are adjacent to vertices visited at the previous step  "
   ]
  },
  {
   "cell_type": "markdown",
   "metadata": {},
   "source": [
    "_**`Graph practice`**_\n",
    "\n",
    "Q3: What is the maximal number of edges in a graph on 30 vertices, which does not include triangles (that is, no three vertices are mutually connected)?\n",
    "- Mantel's theorem: The maximum number of edges in an $n$-vertex triangle-free graph is $n^2\\over 4$ \n",
    "- In other words, one must delete nearly half of the edges in $K_{n}$ to obtain a triangle-free graph."
   ]
  },
  {
   "cell_type": "markdown",
   "metadata": {},
   "source": [
    "## `Week 5 - Basic graph parameters`"
   ]
  },
  {
   "cell_type": "markdown",
   "metadata": {},
   "source": [
    "**_`Handshaking lemma`_**\n",
    "\n",
    "_The number of people who shook hands with an odd number of other people is even_\n",
    "\n",
    "- The degree of a vertex is the number of edges connected to it\n",
    "- Degrees are a source of graph invariants. If $g$ has 15 vertices of degree 5 and $h$ has 14 vertices of degree 5, these graphs are not isomorphic.\n",
    "\n",
    "number of edges = sum of vertex degrees $\\div$ 2\n",
    "\n",
    "Hence, **`SUM OF VERTEX DEGREE SHOULD BE EVEN`!** Hence, **`number of vertices with odd degree should always be even`**! = we need even number of odd vertices"
   ]
  },
  {
   "cell_type": "markdown",
   "metadata": {},
   "source": [
    "**_`Global clustering coefficient`_**  \n",
    "\n",
    "GCC = $3 \\times$ number of triangles $\\div$ number of triplets\n"
   ]
  },
  {
   "cell_type": "markdown",
   "metadata": {},
   "source": [
    "**_`Local clustering coefficient `_**\n",
    "\n",
    "LCC = number of pairs (B,C) which form a triangle with A $\\div  k \\times (k -1) \\div 2$"
   ]
  },
  {
   "cell_type": "markdown",
   "metadata": {},
   "source": [
    "**_`Distance`_**\n",
    "\n",
    "Distance = shortest path between two vertices\n",
    "\n",
    "$d(s,t) = n$\n",
    "\n",
    "$d(s,s) = 0$\n",
    "\n",
    "if no path from $s$ to $t$, then $d(s,t) = \\infty $\n"
   ]
  },
  {
   "cell_type": "markdown",
   "metadata": {},
   "source": [
    "**_`Triangle inequality`_**\n",
    "\n",
    "$d(s,t) \\leq d(s,q) + d(q, t)$ for any vertices s, t, q"
   ]
  },
  {
   "cell_type": "markdown",
   "metadata": {},
   "source": [
    "**_`Eccentricity`_**  \n",
    "\n",
    "Eccentricity of a vertex is a maximal distance from this vertex to another one.  \n",
    "Note: apply the Breadth First Search algorithm (each step goes to all adjacent verteces)"
   ]
  },
  {
   "cell_type": "markdown",
   "metadata": {},
   "source": [
    "**_`Diameter`_**  \n",
    "\n",
    "$diam(\\theta)$ = max distance possible in this graph `or` max eccentricity in the graph\n",
    "\n",
    "**_`Radius`_**   \n",
    "$r(\\theta)$ = min eccentricity in the graph"
   ]
  },
  {
   "cell_type": "markdown",
   "metadata": {},
   "source": [
    "**_`Subgraphs`_**  \n",
    "\n",
    "A _subgraph_ is a part of a graph which is obtained by taking a subset of vertices and a subset of edges from a graph\n",
    "\n",
    "Condition: the vertex subset should cover the edge subset = if we take the edge, we should take both its endpoints."
   ]
  },
  {
   "cell_type": "markdown",
   "metadata": {},
   "source": [
    "**_`Induced & Spanning subgraphs`_**\n",
    "\n",
    "- An induced subgraph includes all the edges of the original graph, whose endpoints are in the vertex subset\n",
    "- A spanning subgraph includes all vertices of the original graph (but maybe not all edges)\n",
    "- The subgraph can be neither induced nor spanning\n",
    "- If the subgraph is both induced and spanning, it means that it is just the original graph"
   ]
  },
  {
   "cell_type": "markdown",
   "metadata": {},
   "source": [
    "**_`Clique`_**\n",
    "\n",
    "Clique = complete subgraph\n",
    "\n",
    "- Clique is always an induced subgraph\n",
    "- In clique all vertices are connected with each other\n"
   ]
  },
  {
   "cell_type": "markdown",
   "metadata": {},
   "source": [
    "**_`Independent set`_**\n",
    "\n",
    "- Indepdented set is a dual notion of the clique\n",
    "- An independent set is an *empty induced subgraph*, where no pair of vertices can be connected\n",
    "\n",
    "==> clique in a graph is exactly independent set in the complement graph."
   ]
  },
  {
   "cell_type": "markdown",
   "metadata": {},
   "source": [
    "**_`Complement graph`_**\n",
    "\n",
    "The complement of a graph G is a graph G' on the same set of vertices as of G such that there will be an edge between two vertices (v, e) in G', if and only if there is no edge in between (v, e) in G. \n"
   ]
  },
  {
   "cell_type": "markdown",
   "metadata": {},
   "source": [
    "**_`Ramsey number`_**\n",
    "\n",
    "????\n"
   ]
  },
  {
   "cell_type": "markdown",
   "metadata": {},
   "source": [
    "**_`Vertex Cover`_**  \n",
    "\n",
    "_Vertex cover is a subset C of vertices such that for any edge at least one of its endpoints belongs to C_\n",
    "\n",
    "A vertex cover is _optimal_ if it contains the smalles possible number of vertices\n",
    "\n",
    "`Duality:` a set C of ceerices is a vertex cover if and only if its complement, V - C, is an independent set\n",
    "\n",
    "Algorithm to find the vertex cover in bipartite graphs: use `König - Egerváry theorem`"
   ]
  },
  {
   "cell_type": "markdown",
   "metadata": {},
   "source": [
    "**_`Approximating the Optimal Vertex Cover`_**  - not worse than *2\n",
    "\n",
    "**Matching**: a set of $m$ edges in a graph such that none of these edges are adjacent. \n",
    "- If there exists a matching, that any vertex cover should include at least m vertices.\n",
    "\n",
    "Constructing a Big Matching $M$ (**greedy algorithm**):\n",
    "- Start with an arbitrary edge\n",
    "- Remove adjustent edges\n",
    "- The resulted matching is _maximal_ in a sense that no edge can be added to it\n",
    "\n",
    "Once we obtain the matching $M$, we take all endpoints of its edges and form a set of vertices $C$. Thus, every edge is adjacent to one from $M$. Thus, $C$ is a vertex cover.\n",
    "\n",
    "Note:  \n",
    "$C = 2 \\times |M|$   \n",
    "$|C'| \\geq |M|$\n",
    "Hence,\n",
    "\n",
    "$|C| \\leq 2 \\times | C \\scriptsize opt$ $|$"
   ]
  },
  {
   "cell_type": "markdown",
   "metadata": {},
   "source": [
    "**_`Connected vertices`_**\n",
    "\n",
    "- Two vertices are connected if there exists a path between them, meaning $d(u,v) < \\infty$"
   ]
  },
  {
   "cell_type": "markdown",
   "metadata": {},
   "source": [
    "**_`Connected components`_**\n",
    "\n",
    "- Vertex $v$ belongs to the connected component of vertex $u$, if $v$ and $u$ are connected\n",
    "\n",
    "Connected component of $u$ can be denoted by $[u]$\n",
    "\n",
    "If $v \\in [u]$, then $[v] = [u]$\n",
    "\n",
    "If $v \\notin [u]$, then $[v] \\cap [u] = \\empty$ => each graph is split into several disjoint connected components => the number of connected components is a graph invariant"
   ]
  },
  {
   "cell_type": "markdown",
   "metadata": {},
   "source": [
    "**_`The minimum`_**  \n",
    "\n",
    "The connected graph on $n$ vertices should have at least $n - 1$ edges (a tree)\n",
    "\n",
    "If $ m < n-1$, then **at least two** connected components\n",
    "\n",
    "If a graph on $n$ vertices has $k$ connected components, it should have at least $n-k$ edges\n",
    "\n",
    "Thus, $m \\geq n - k$ | $k \\geq n - m$"
   ]
  },
  {
   "cell_type": "markdown",
   "metadata": {},
   "source": [
    "**_`The maximum`_**  \n",
    "\n",
    "However, even if $m \\geq n - 1$, the graph still can be disconnected (not a tree)\n",
    "\n",
    "If a connected component includes $n _{1} \\times (n_{1} - 1) / 2$\n",
    "\n",
    "If a graph has two connected components $n_{1} + n_{2} = n$,  \n",
    "then $m \\leq n _{1} \\times (n_{1} - 1) / 2 + n _{2} \\times (n_{2} - 1) / 2$ => if it does not hold and $m$ is greater, then the graph is connected.\n",
    "\n",
    "The maximal value of $n _{1} \\times (n_{1} - 1) / 2 + n _{2} \\times (n_{2} - 1) / 2$ is achieved with $n_{1} = n - 1$ and $n_{2} = 1$ (or symmetrically $n_{1} = 1$ and $n_{2} = n-1$)\n",
    "\n",
    "Thus, if $m \\geq (n-1) \\times (n-2) / 2 $, then the graph is connected"
   ]
  }
 ],
 "metadata": {
  "kernelspec": {
   "display_name": "Python 3.8.8 64-bit ('anaconda3')",
   "language": "python",
   "name": "python3"
  },
  "language_info": {
   "codemirror_mode": {
    "name": "ipython",
    "version": 3
   },
   "file_extension": ".py",
   "mimetype": "text/x-python",
   "name": "python",
   "nbconvert_exporter": "python",
   "pygments_lexer": "ipython3",
   "version": "3.8.8"
  },
  "vscode": {
   "interpreter": {
    "hash": "e051da4a5763bfc9ce1c5f3e0a03ca70a7985308c66ef8f16fedb51a44687023"
   }
  }
 },
 "nbformat": 4,
 "nbformat_minor": 4
}
